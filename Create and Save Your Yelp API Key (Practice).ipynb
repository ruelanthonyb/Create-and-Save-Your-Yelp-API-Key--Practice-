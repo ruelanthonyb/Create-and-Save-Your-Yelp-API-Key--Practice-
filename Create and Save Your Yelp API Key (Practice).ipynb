{
 "cells": [
  {
   "cell_type": "markdown",
   "id": "31b8216e",
   "metadata": {},
   "source": [
    "### Create and Save Your Yelp API Key (Practice)\n",
    "While this assignment is optional, you can use the notebook & repository created in this practice assignment as a starting point for your first Core assignment.\n",
    "\n",
    "* Follow the instructions from the previous 2 lessons to get your Yelp Fusion API credentials.\n",
    "* Save them locally in a yelp-api.json file located in a \".secret/\" folder inside your user folder.\n",
    "* Create a new repository with GitHub desktop.\n",
    "* Load in your API credentials using the JSON module and display what keys are in the dictionary.\n",
    "    * DO NOT DISPLAY THE VALUES OF THIS DICTIONARY!!!\n",
    "* Save, commit, and push your work to GitHub."
   ]
  },
  {
   "cell_type": "code",
   "execution_count": 10,
   "id": "190d20a5",
   "metadata": {},
   "outputs": [],
   "source": [
    "# imports\n",
    "import json"
   ]
  },
  {
   "cell_type": "markdown",
   "id": "d549f7ab",
   "metadata": {},
   "source": [
    "### Load API Keys"
   ]
  },
  {
   "cell_type": "code",
   "execution_count": 13,
   "id": "13c61223",
   "metadata": {},
   "outputs": [
    {
     "data": {
      "text/plain": [
       "dict_keys(['client-id', 'api-key'])"
      ]
     },
     "execution_count": 13,
     "metadata": {},
     "output_type": "execute_result"
    }
   ],
   "source": [
    "# Load API Credentials\n",
    "with open(r\"C:\\Users\\bandi\\.secret\\yelp_api.json\") as f:\n",
    "    login = json.load(f)\n",
    "login.keys()"
   ]
  }
 ],
 "metadata": {
  "kernelspec": {
   "display_name": "Python (dojo-env)",
   "language": "python",
   "name": "dojo-env"
  },
  "language_info": {
   "codemirror_mode": {
    "name": "ipython",
    "version": 3
   },
   "file_extension": ".py",
   "mimetype": "text/x-python",
   "name": "python",
   "nbconvert_exporter": "python",
   "pygments_lexer": "ipython3",
   "version": "3.11.5"
  }
 },
 "nbformat": 4,
 "nbformat_minor": 5
}
